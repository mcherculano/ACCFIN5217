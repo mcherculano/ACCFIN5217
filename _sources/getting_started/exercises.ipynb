{
 "cells": [
  {
   "cell_type": "markdown",
   "id": "f6c41b47",
   "metadata": {},
   "source": [
    "(exercises)=\n",
    "\n",
    "# Exercises\n",
    "\n",
    "Now we turn to exercises. It is important that you complete them before\n",
    "continuing, since they present new concepts we will need.\n",
    "\n",
    "### Exercise 1\n",
    "\n",
    "Your first task is to simulate and plot the correlated time series\n",
    "\n",
    "$$\n",
    "x_{t+1} = \\alpha \\, x_t + \\epsilon_{t+1}\n",
    "\\quad \\text{where} \\quad\n",
    "x_0 = 0\n",
    "\\quad \\text{and} \\quad t = 0,\\ldots,T\n",
    "$$\n",
    "\n",
    "The sequence of shocks $\\{\\epsilon_t\\}$ is assumed to be IID and\n",
    "standard normal.\n",
    "\n",
    "In your solution, restrict your import statements to"
   ]
  },
  {
   "cell_type": "code",
   "execution_count": 22,
   "id": "24915a72",
   "metadata": {},
   "outputs": [],
   "source": [
    "import numpy as np\n",
    "import matplotlib.pyplot as plt"
   ]
  },
  {
   "cell_type": "markdown",
   "id": "1e260df4",
   "metadata": {},
   "source": [
    "Set $T=200$ and $\\alpha = 0.9$.\n",
    "\n",
    "### Exercise 2\n",
    "\n",
    "Starting with your solution to exercise 1, plot three simulated time\n",
    "series, one for each of the cases $\\alpha=0$, $\\alpha=0.8$ and\n",
    "$\\alpha=0.98$.\n",
    "\n",
    "Use a `for` loop to step through the $\\alpha$ values.\n",
    "\n",
    "If you can, add a legend, to help distinguish between the three time\n",
    "series.\n",
    "\n",
    "Hints:\n",
    "\n",
    "-   If you call the `plot()` function multiple times before calling\n",
    "    `show()`, all of the lines you produce will end up on the same\n",
    "    figure.\n",
    "-   For the legend, noted that the expression `'foo' + str(42)`\n",
    "    evaluates to `'foo42'`.\n",
    "\n",
    "### Exercise 3\n",
    "\n",
    "Similar to the previous exercises, plot the time series\n",
    "\n",
    "$$\n",
    "x_{t+1} = \\alpha \\, |x_t| + \\epsilon_{t+1}\n",
    "\\quad \\text{where} \\quad\n",
    "x_0 = 0\n",
    "\\quad \\text{and} \\quad t = 0,\\ldots,T\n",
    "$$\n",
    "\n",
    "Use $T=200$, $\\alpha = 0.9$ and $\\{\\epsilon_t\\}$ as before.\n",
    "\n",
    "Search online for a function that can be used to compute the absolute\n",
    "value $|x_t|$.\n",
    "\n",
    "### Exercise 4\n",
    "\n",
    "One important aspect of essentially all programming languages is\n",
    "branching and conditions.\n",
    "\n",
    "In Python, conditions are usually implemented with if--else syntax.\n",
    "\n",
    "Here\\'s an example, that prints -1 for each negative number in an array\n",
    "and 1 for each nonnegative number"
   ]
  },
  {
   "cell_type": "code",
   "execution_count": 23,
   "id": "25444975",
   "metadata": {},
   "outputs": [],
   "source": [
    "numbers = [-9, 2.3, -11, 0]"
   ]
  },
  {
   "cell_type": "code",
   "execution_count": 24,
   "id": "ba67caff",
   "metadata": {},
   "outputs": [
    {
     "name": "stdout",
     "output_type": "stream",
     "text": [
      "-1\n",
      "1\n",
      "-1\n",
      "1\n"
     ]
    }
   ],
   "source": [
    "for x in numbers:\n",
    "    if x < 0:\n",
    "        print(-1)\n",
    "    else:\n",
    "        print(1)"
   ]
  },
  {
   "cell_type": "markdown",
   "id": "562e4c05",
   "metadata": {},
   "source": [
    "Now, write a new solution to Exercise 3 that does not use an existing\n",
    "function to compute the absolute value.\n",
    "\n",
    "Replace this existing function with an if--else condition.\n",
    "\n",
    "(pbe_ex3)=\n",
    "\n",
    "### Exercise 5\n",
    "\n",
    "Here\\'s a harder exercise, that takes some thought and planning.\n",
    "\n",
    "The task is to compute an approximation to $\\pi$ using [Monte Carlo](https://en.wikipedia.org/wiki/Monte_Carlo_method).\n",
    "\n",
    "Use no imports besides"
   ]
  },
  {
   "cell_type": "code",
   "execution_count": 25,
   "id": "f73bd349",
   "metadata": {},
   "outputs": [],
   "source": [
    "import numpy as np"
   ]
  },
  {
   "cell_type": "markdown",
   "id": "e2585de4",
   "metadata": {},
   "source": [
    "Your hints are as follows:\n",
    "\n",
    "-   If $U$ is a bivariate uniform random variable on the unit square\n",
    "    $(0, 1)^2$, then the probability that $U$ lies in a subset $B$ of\n",
    "    $(0,1)^2$ is equal to the area of $B$.\n",
    "-   If $U_1,\\ldots,U_n$ are IID copies of $U$, then, as $n$ gets large,\n",
    "    the fraction that falls in $B$, converges to the probability of\n",
    "    landing in $B$.\n",
    "-   For a circle, $area = \\pi * radius^2$.\n"
   ]
  },
  {
   "cell_type": "markdown",
   "id": "5c3284aa",
   "metadata": {},
   "source": [
    "### Exercise 6 \n",
    "\n",
    "Python is a powerful tool to download and manage large amounts of data. To have an idea of its potential, let's build a simple notebook that replicates a recent [FRED blog post](https://fredblog.stlouisfed.org/2023/09/above-average-wage-growth-in-the-leisure-and-hospitality-industry/). Unlike previous exercises, here we need a third-party library so please start by opening anaconda prompt and run `conda install pip`. You should then be able to run directly in your notebook:"
   ]
  },
  {
   "cell_type": "code",
   "execution_count": 1,
   "id": "16d62ed0",
   "metadata": {},
   "outputs": [
    {
     "name": "stdout",
     "output_type": "stream",
     "text": [
      "Collecting fredapi\n",
      "  Obtaining dependency information for fredapi from https://files.pythonhosted.org/packages/96/d4/f81fa9f67775a6a4b9e2cd8487239d61a9698cb2b9c02a5a2897d310f7a4/fredapi-0.5.1-py3-none-any.whl.metadata\n",
      "  Downloading fredapi-0.5.1-py3-none-any.whl.metadata (5.0 kB)\n",
      "Requirement already satisfied: pandas in c:\\users\\miguel\\anaconda3\\lib\\site-packages (from fredapi) (2.0.3)\n",
      "Requirement already satisfied: python-dateutil>=2.8.2 in c:\\users\\miguel\\anaconda3\\lib\\site-packages (from pandas->fredapi) (2.8.2)\n",
      "Requirement already satisfied: pytz>=2020.1 in c:\\users\\miguel\\anaconda3\\lib\\site-packages (from pandas->fredapi) (2022.7)\n",
      "Requirement already satisfied: tzdata>=2022.1 in c:\\users\\miguel\\anaconda3\\lib\\site-packages (from pandas->fredapi) (2023.3)\n",
      "Requirement already satisfied: numpy>=1.21.0 in c:\\users\\miguel\\anaconda3\\lib\\site-packages (from pandas->fredapi) (1.24.3)\n",
      "Requirement already satisfied: six>=1.5 in c:\\users\\miguel\\anaconda3\\lib\\site-packages (from python-dateutil>=2.8.2->pandas->fredapi) (1.16.0)\n",
      "Downloading fredapi-0.5.1-py3-none-any.whl (11 kB)\n",
      "Installing collected packages: fredapi\n",
      "Successfully installed fredapi-0.5.1\n"
     ]
    }
   ],
   "source": [
    "!pip install fredapi"
   ]
  },
  {
   "cell_type": "code",
   "execution_count": null,
   "id": "4ed1dce2",
   "metadata": {},
   "outputs": [],
   "source": []
  },
  {
   "cell_type": "markdown",
   "id": "86e3ab60",
   "metadata": {},
   "source": [
    "### Exercise 7 \n",
    "\n",
    "The correlation between bonds and stocks is an important parameter for asset allocation decisions. Since most long-term investor portfolios involve a mix between bonds and stocks, this parameter is of paramount importance. A recent issue under discussion by academics and practitioners relates to the change in sign of this parameter. Read about the discussion in [this paper](https://www.aqr.com/Insights/Research/Journal-Article/A-Changing-Stock-Bond-Correlation) and replicate Exhibit 1 on page 2. Use the data from FRED for equity `SP500` and bonds `DTB3`."
   ]
  }
 ],
 "metadata": {
  "jupytext": {
   "text_representation": {
    "extension": ".md",
    "format_name": "myst"
   }
  },
  "kernelspec": {
   "display_name": "Python 3",
   "language": "python",
   "name": "python3"
  },
  "language_info": {
   "codemirror_mode": {
    "name": "ipython",
    "version": 3
   },
   "file_extension": ".py",
   "mimetype": "text/x-python",
   "name": "python",
   "nbconvert_exporter": "python",
   "pygments_lexer": "ipython3",
   "version": "3.11.4"
  },
  "source_map": [
   10,
   51,
   53,
   61,
   68,
   92,
   96,
   98,
   102,
   106,
   158,
   162,
   166,
   170,
   187,
   191,
   219,
   229,
   256,
   259,
   270,
   274,
   277,
   292,
   296,
   300,
   302,
   307,
   311,
   313,
   321,
   325,
   342,
   346,
   407,
   417,
   448,
   460,
   495,
   498,
   547,
   551,
   557,
   574,
   576,
   594,
   605,
   609,
   622,
   628,
   639,
   645,
   660,
   664,
   676,
   695
  ]
 },
 "nbformat": 4,
 "nbformat_minor": 5
}
