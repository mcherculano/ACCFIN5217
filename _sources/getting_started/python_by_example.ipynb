{
 "cells": [
  {
   "cell_type": "markdown",
   "id": "415d2bc4",
   "metadata": {},
   "source": [
    "(python_by_example)=\n",
    "\n",
    "# An Introductory Example\n",
    "\n",
    "## Overview\n",
    "\n",
    "We\\'re now ready to start learning the Python language itself.\n",
    "\n",
    "In this lab, we will write and then pick apart small Python\n",
    "programs.\n",
    "\n",
    "The objective is to introduce you to basic Python syntax and data\n",
    "structures.\n",
    "\n",
    "Deeper concepts will be covered in later labs.\n",
    "\n",
    "You should have read the notes on getting started with Python before beginning this one.\n",
    "\n",
    "## The Task: Plotting a White Noise Process\n",
    "\n",
    "Suppose we want to simulate and plot the white noise process\n",
    "$\\epsilon_0, \\epsilon_1, \\ldots, \\epsilon_T$, where each draw\n",
    "$\\epsilon_t$ is independent standard normal.\n",
    "\n",
    "In other words, we want to generate figures that look something like\n",
    "this:\n",
    "\n",
    "```{figure} /images/test_program_1_updated.png\n",
    "```\n",
    "\n",
    "(Here $t$ is on the horizontal axis and $\\epsilon_t$ is on the vertical\n",
    "axis.)\n",
    "\n",
    "We\\'ll do this in several different ways, each time learning something\n",
    "more about Python.\n",
    "\n",
    "We run the following command first, which helps ensure that plots appear\n",
    "in the notebook if you run it on your own machine."
   ]
  },
  {
   "cell_type": "code",
   "execution_count": 1,
   "id": "d99be092",
   "metadata": {},
   "outputs": [],
   "source": [
    "%matplotlib inline"
   ]
  },
  {
   "cell_type": "markdown",
   "id": "80bd9a43",
   "metadata": {},
   "source": [
    "## Version 1\n",
    "\n",
    "(ourfirstprog)=\n",
    "\n",
    "Here are a few lines of code that perform the task we set"
   ]
  },
  {
   "cell_type": "code",
   "execution_count": 2,
   "id": "d47f71a5",
   "metadata": {},
   "outputs": [
    {
     "data": {
      "image/png": "[encoded data removed]",
      "text/plain": [
       "<Figure size 432x288 with 1 Axes>"
      ]
     },
     "metadata": {
      "filenames": {
       "image/png": "/home/runner/work/quantecon-mini-example/quantecon-mini-example/mini_book/_build/jupyter_execute/docs/python_by_example_3_0.png"
      },
      "needs_background": "light"
     },
     "output_type": "display_data"
    }
   ],
   "source": [
    "import numpy as np\n",
    "import matplotlib.pyplot as plt\n",
    "\n",
    "ϵ_values = np.random.randn(100)\n",
    "plt.plot(ϵ_values)\n",
    "plt.show()"
   ]
  },
  {
   "cell_type": "markdown",
   "id": "b4b9ff12",
   "metadata": {},
   "source": [
    "Let\\'s break this program down and see how it works.\n",
    "\n",
    "(import)=\n",
    "\n",
    "### Imports\n",
    "\n",
    "The first two lines of the program import functionality from external\n",
    "code libraries.\n",
    "\n",
    "The first line imports NumPy, a\n",
    "favorite Python package for tasks like\n",
    "\n",
    "-   working with arrays (vectors and matrices)\n",
    "-   common mathematical functions like `cos` and `sqrt`\n",
    "-   generating random numbers\n",
    "-   linear algebra, etc.\n",
    "\n",
    "After `import numpy as np` we have access to these attributes via the\n",
    "syntax `np.attribute`.\n",
    "\n",
    "Here\\'s two more examples"
   ]
  },
  {
   "cell_type": "code",
   "execution_count": 3,
   "id": "27bb4aa4",
   "metadata": {},
   "outputs": [
    {
     "data": {
      "text/plain": [
       "2.0"
      ]
     },
     "execution_count": 3,
     "metadata": {},
     "output_type": "execute_result"
    }
   ],
   "source": [
    "np.sqrt(4)"
   ]
  },
  {
   "cell_type": "code",
   "execution_count": 4,
   "id": "d58217e1",
   "metadata": {},
   "outputs": [
    {
     "data": {
      "text/plain": [
       "1.3862943611198906"
      ]
     },
     "execution_count": 4,
     "metadata": {},
     "output_type": "execute_result"
    }
   ],
   "source": [
    "np.log(4)"
   ]
  },
  {
   "cell_type": "markdown",
   "id": "baf9d514",
   "metadata": {},
   "source": [
    "We could also use the following syntax:"
   ]
  },
  {
   "cell_type": "code",
   "execution_count": 5,
   "id": "4830a2d7",
   "metadata": {},
   "outputs": [
    {
     "data": {
      "text/plain": [
       "2.0"
      ]
     },
     "execution_count": 5,
     "metadata": {},
     "output_type": "execute_result"
    }
   ],
   "source": [
    "import numpy\n",
    "\n",
    "numpy.sqrt(4)"
   ]
  },
  {
   "cell_type": "markdown",
   "id": "329df205",
   "metadata": {},
   "source": [
    "But the former method (using the short name `np`) is convenient and more\n",
    "standard.\n",
    "\n",
    "#### Why So Many Imports?\n",
    "\n",
    "Python programs typically require several import statements.\n",
    "\n",
    "The reason is that the core language is deliberately kept small, so that\n",
    "it\\'s easy to learn and maintain.\n",
    "\n",
    "When you want to do something interesting with Python, you almost always\n",
    "need to import additional functionality.\n",
    "\n",
    "#### Packages\n",
    "\n",
    "As stated above, NumPy is a Python *package*.\n",
    "\n",
    "Packages are used by developers to organize code they wish to share.\n",
    "\n",
    "In fact, a package is just a directory containing\n",
    "\n",
    "1.  files with Python code --- called **modules** in Python speak\n",
    "2.  possibly some compiled code that can be accessed by Python (e.g.,\n",
    "    functions compiled from C or FORTRAN code)\n",
    "3.  a file called `__init__.py` that specifies what will be executed\n",
    "    when we type `import package_name`\n",
    "\n",
    "In fact, you can find and explore the directory for NumPy on your\n",
    "computer easily enough if you look around.\n",
    "\n",
    "On this machine, it\\'s located in\n",
    "\n",
    "```{code-block} none\n",
    "anaconda3/lib/python3.7/site-packages/numpy\n",
    "```\n",
    "\n",
    "#### Subpackages\n",
    "\n",
    "Consider the line `ϵ_values = np.random.randn(100)`.\n",
    "\n",
    "Here `np` refers to the package NumPy, while `random` is a\n",
    "**subpackage** of NumPy.\n",
    "\n",
    "Subpackages are just packages that are subdirectories of another\n",
    "package.\n",
    "\n",
    "### Importing Names Directly\n",
    "\n",
    "Recall this code that we saw above"
   ]
  },
  {
   "cell_type": "code",
   "execution_count": 6,
   "id": "f30d21ab",
   "metadata": {},
   "outputs": [
    {
     "data": {
      "text/plain": [
       "2.0"
      ]
     },
     "execution_count": 6,
     "metadata": {},
     "output_type": "execute_result"
    }
   ],
   "source": [
    "import numpy as np\n",
    "\n",
    "np.sqrt(4)"
   ]
  },
  {
   "cell_type": "markdown",
   "id": "ac4b1b75",
   "metadata": {},
   "source": [
    "Here\\'s another way to access NumPy\\'s square root function"
   ]
  },
  {
   "cell_type": "code",
   "execution_count": 7,
   "id": "5757b51e",
   "metadata": {},
   "outputs": [
    {
     "data": {
      "text/plain": [
       "2.0"
      ]
     },
     "execution_count": 7,
     "metadata": {},
     "output_type": "execute_result"
    }
   ],
   "source": [
    "from numpy import sqrt\n",
    "\n",
    "sqrt(4)"
   ]
  },
  {
   "cell_type": "markdown",
   "id": "53c333f5",
   "metadata": {},
   "source": [
    "This is also fine.\n",
    "\n",
    "The advantage is less typing if we use `sqrt` often in our code.\n",
    "\n",
    "The disadvantage is that, in a long program, these two lines might be\n",
    "separated by many other lines.\n",
    "\n",
    "Then it\\'s harder for readers to know where `sqrt` came from, should\n",
    "they wish to.\n",
    "\n",
    "### Random Draws\n",
    "\n",
    "Returning to our program that plots white noise, the remaining three\n",
    "lines after the import statements are"
   ]
  },
  {
   "cell_type": "code",
   "execution_count": 8,
   "id": "c6001fe6",
   "metadata": {},
   "outputs": [
    {
     "data": {
      "image/png": "[encoded data removed]",
      "text/plain": [
       "<Figure size 432x288 with 1 Axes>"
      ]
     },
     "metadata": {
      "filenames": {
       "image/png": "/home/runner/work/quantecon-mini-example/quantecon-mini-example/mini_book/_build/jupyter_execute/docs/python_by_example_14_0.png"
      },
      "needs_background": "light"
     },
     "output_type": "display_data"
    }
   ],
   "source": [
    "ϵ_values = np.random.randn(100)\n",
    "plt.plot(ϵ_values)\n",
    "plt.show()"
   ]
  },
  {
   "cell_type": "markdown",
   "id": "7c4f2b8e",
   "metadata": {},
   "source": [
    "The first line generates 100 (quasi) independent standard normals and\n",
    "stores them in `ϵ_values`.\n",
    "\n",
    "The next two lines genererate the plot.\n",
    "\n",
    "We can and will look at various ways to configure and improve this plot\n",
    "below.\n",
    "\n",
    "## Alternative Implementations\n",
    "\n",
    "Let\\'s try writing some alternative versions of\n",
    "{ref}`our first program <ourfirstprog>`, which\n",
    "plotted IID draws from the normal distribution.\n",
    "\n",
    "The programs below are less efficient than the original one, and hence\n",
    "somewhat artificial.\n",
    "\n",
    "But they do help us illustrate some important Python syntax and\n",
    "semantics in a familiar setting.\n",
    "\n",
    "### A Version with a For Loop\n",
    "\n",
    "Here\\'s a version that illustrates `for` loops and Python lists.\n",
    "\n",
    "(firstloopprog)="
   ]
  },
  {
   "cell_type": "code",
   "execution_count": 9,
   "id": "1a76a756",
   "metadata": {},
   "outputs": [
    {
     "data": {
      "image/png": "[encoded data removed]",
      "text/plain": [
       "<Figure size 432x288 with 1 Axes>"
      ]
     },
     "metadata": {
      "filenames": {
       "image/png": "/home/runner/work/quantecon-mini-example/quantecon-mini-example/mini_book/_build/jupyter_execute/docs/python_by_example_16_0.png"
      },
      "needs_background": "light"
     },
     "output_type": "display_data"
    }
   ],
   "source": [
    "ts_length = 100\n",
    "ϵ_values = []   # empty list\n",
    "\n",
    "for i in range(ts_length):\n",
    "    e = np.random.randn()\n",
    "    ϵ_values.append(e)\n",
    "\n",
    "plt.plot(ϵ_values)\n",
    "plt.show()"
   ]
  },
  {
   "cell_type": "markdown",
   "id": "d9fee52f",
   "metadata": {},
   "source": [
    "In brief,\n",
    "\n",
    "-   The first line sets the desired length of the time series.\n",
    "-   The next line creates an empty *list* called `ϵ_values` that will\n",
    "    store the $\\epsilon_t$ values as we generate them.\n",
    "-   The statement `# empty list` is a *comment*, and is ignored by\n",
    "    Python\\'s interpreter.\n",
    "-   The next three lines are the `for` loop, which repeatedly draws a\n",
    "    new random number $\\epsilon_t$ and appends it to the end of the list\n",
    "    `ϵ_values`.\n",
    "-   The last two lines generate the plot and display it to the user.\n",
    "\n",
    "Let\\'s study some parts of this program in more detail.\n",
    "\n",
    "(lists_ref)=\n",
    "\n",
    "### Lists\n",
    "\n",
    "Consider the statement `ϵ_values = []`, which creates an empty list.\n",
    "\n",
    "Lists are a *native Python data structure* used to group a collection of\n",
    "objects.\n",
    "\n",
    "For example, try"
   ]
  },
  {
   "cell_type": "code",
   "execution_count": 10,
   "id": "1bf9c179",
   "metadata": {},
   "outputs": [
    {
     "data": {
      "text/plain": [
       "list"
      ]
     },
     "execution_count": 10,
     "metadata": {},
     "output_type": "execute_result"
    }
   ],
   "source": [
    "x = [10, 'foo', False]\n",
    "type(x)"
   ]
  },
  {
   "cell_type": "markdown",
   "id": "de13447d",
   "metadata": {},
   "source": [
    "The first element of `x` is an\n",
    "[integer](https://en.wikipedia.org/wiki/Integer_%28computer_science%29),\n",
    "the next is a\n",
    "[string](https://en.wikipedia.org/wiki/String_%28computer_science%29),\n",
    "and the third is a [Boolean value](https://en.wikipedia.org/wiki/Boolean_data_type).\n",
    "\n",
    "When adding a value to a list, we can use the syntax\n",
    "`list_name.append(some_value)`"
   ]
  },
  {
   "cell_type": "code",
   "execution_count": 11,
   "id": "dfbecde5",
   "metadata": {},
   "outputs": [
    {
     "data": {
      "text/plain": [
       "[10, 'foo', False]"
      ]
     },
     "execution_count": 11,
     "metadata": {},
     "output_type": "execute_result"
    }
   ],
   "source": [
    "x"
   ]
  },
  {
   "cell_type": "code",
   "execution_count": 12,
   "id": "5300931d",
   "metadata": {},
   "outputs": [
    {
     "data": {
      "text/plain": [
       "[10, 'foo', False, 2.5]"
      ]
     },
     "execution_count": 12,
     "metadata": {},
     "output_type": "execute_result"
    }
   ],
   "source": [
    "x.append(2.5)\n",
    "x"
   ]
  },
  {
   "cell_type": "markdown",
   "id": "4ff317c7",
   "metadata": {},
   "source": [
    "Here `append()` is what\\'s called a *method*, which is a function\n",
    "\\\"attached to\\\" an object---in this case, the list `x`.\n",
    "\n",
    "We\\'ll learn all about methods later on, but just to give you some idea,\n",
    "\n",
    "-   Python objects such as lists, strings, etc. all have methods that\n",
    "    are used to manipulate the data contained in the object.\n",
    "-   String objects have [string methods](https://docs.python.org/3/library/stdtypes.html#string-methods),\n",
    "    list objects have [list methods](https://docs.python.org/3/tutorial/datastructures.html#more-on-lists),\n",
    "    etc.\n",
    "\n",
    "Another useful list method is `pop()`"
   ]
  },
  {
   "cell_type": "code",
   "execution_count": 13,
   "id": "36081c10",
   "metadata": {},
   "outputs": [
    {
     "data": {
      "text/plain": [
       "[10, 'foo', False, 2.5]"
      ]
     },
     "execution_count": 13,
     "metadata": {},
     "output_type": "execute_result"
    }
   ],
   "source": [
    "x"
   ]
  },
  {
   "cell_type": "code",
   "execution_count": 14,
   "id": "4b615e9a",
   "metadata": {},
   "outputs": [
    {
     "data": {
      "text/plain": [
       "2.5"
      ]
     },
     "execution_count": 14,
     "metadata": {},
     "output_type": "execute_result"
    }
   ],
   "source": [
    "x.pop()"
   ]
  },
  {
   "cell_type": "code",
   "execution_count": 15,
   "id": "07519b9b",
   "metadata": {},
   "outputs": [
    {
     "data": {
      "text/plain": [
       "[10, 'foo', False]"
      ]
     },
     "execution_count": 15,
     "metadata": {},
     "output_type": "execute_result"
    }
   ],
   "source": [
    "x"
   ]
  },
  {
   "cell_type": "markdown",
   "id": "db29590d",
   "metadata": {},
   "source": [
    "Lists in Python are zero-based (as in C, Java or Go), so the first\n",
    "element is referenced by `x[0]`"
   ]
  },
  {
   "cell_type": "code",
   "execution_count": 16,
   "id": "b27adca2",
   "metadata": {},
   "outputs": [
    {
     "data": {
      "text/plain": [
       "10"
      ]
     },
     "execution_count": 16,
     "metadata": {},
     "output_type": "execute_result"
    }
   ],
   "source": [
    "x[0]   # first element of x"
   ]
  },
  {
   "cell_type": "code",
   "execution_count": 17,
   "id": "1d99b23c",
   "metadata": {},
   "outputs": [
    {
     "data": {
      "text/plain": [
       "'foo'"
      ]
     },
     "execution_count": 17,
     "metadata": {},
     "output_type": "execute_result"
    }
   ],
   "source": [
    "x[1]   # second element of x"
   ]
  },
  {
   "cell_type": "markdown",
   "id": "fc41c030",
   "metadata": {},
   "source": [
    "### The For Loop\n",
    "\n",
    "Now let\\'s consider the `for` loop from\n",
    "{ref}`the program above <firstloopprog>`, which\n",
    "was"
   ]
  },
  {
   "cell_type": "code",
   "execution_count": 18,
   "id": "f99846f9",
   "metadata": {},
   "outputs": [],
   "source": [
    "for i in range(ts_length):\n",
    "    e = np.random.randn()\n",
    "    ϵ_values.append(e)"
   ]
  },
  {
   "cell_type": "markdown",
   "id": "4f4082e8",
   "metadata": {},
   "source": [
    "Python executes the two indented lines `ts_length` times before moving\n",
    "on.\n",
    "\n",
    "These two lines are called a `code block`, since they comprise the\n",
    "\\\"block\\\" of code that we are looping over.\n",
    "\n",
    "Unlike most other languages, Python knows the extent of the code block\n",
    "*only from indentation*.\n",
    "\n",
    "In our program, indentation decreases after line `ϵ_values.append(e)`,\n",
    "telling Python that this line marks the lower limit of the code block.\n",
    "\n",
    "More on indentation below---for now, let\\'s look at another example of\n",
    "a `for` loop"
   ]
  },
  {
   "cell_type": "code",
   "execution_count": 19,
   "id": "a9e5a964",
   "metadata": {},
   "outputs": [
    {
     "name": "stdout",
     "output_type": "stream",
     "text": [
      "The plural of dog is dogs\n",
      "The plural of cat is cats\n",
      "The plural of bird is birds\n"
     ]
    }
   ],
   "source": [
    "animals = ['dog', 'cat', 'bird']\n",
    "for animal in animals:\n",
    "    print(\"The plural of \" + animal + \" is \" + animal + \"s\")"
   ]
  },
  {
   "cell_type": "markdown",
   "id": "2f02f91e",
   "metadata": {},
   "source": [
    "This example helps to clarify how the `for` loop works: When we execute\n",
    "a loop of the form\n",
    "\n",
    "```{code-block}\n",
    "---\n",
    "class: no-execute\n",
    "---\n",
    "\n",
    "for variable_name in sequence:\n",
    "    <code block>\n",
    "```\n",
    "\n",
    "The Python interpreter performs the following:\n",
    "\n",
    "-   For each element of the `sequence`, it \\\"binds\\\" the name\n",
    "    `variable_name` to that element and then executes the code block.\n",
    "\n",
    "The `sequence` object can in fact be a very general object, as we\\'ll\n",
    "see soon enough.\n",
    "\n",
    "### A Comment on Indentation\n",
    "\n",
    "In discussing the `for` loop, we explained that the code blocks being\n",
    "looped over are delimited by indentation.\n",
    "\n",
    "In fact, in Python, **all** code blocks (i.e., those occurring inside\n",
    "loops, if clauses, function definitions, etc.) are delimited by\n",
    "indentation.\n",
    "\n",
    "Thus, unlike most other languages, whitespace in Python code affects the\n",
    "output of the program.\n",
    "\n",
    "Once you get used to it, this is a good thing: It\n",
    "\n",
    "-   forces clean, consistent indentation, improving readability\n",
    "-   removes clutter, such as the brackets or end statements used in\n",
    "    other languages\n",
    "\n",
    "On the other hand, it takes a bit of care to get right, so please\n",
    "remember:\n",
    "\n",
    "-   The line before the start of a code block always ends in a colon\n",
    "    -   `for i in range(10):`\n",
    "    -   `if x > y:`\n",
    "    -   `while x < 100:`\n",
    "    -   etc., etc.\n",
    "-   All lines in a code block **must have the same amount of indentation**.\n",
    "-   The Python standard is 4 spaces, and that\\'s what you should use.\n",
    "\n",
    "### While Loops\n",
    "\n",
    "The `for` loop is the most common technique for iteration in Python.\n",
    "\n",
    "But, for the purpose of illustration, let\\'s modify\n",
    "{ref}`the program above <firstloopprog>` to use\n",
    "a `while` loop instead.\n",
    "\n",
    "(whileloopprog)="
   ]
  },
  {
   "cell_type": "code",
   "execution_count": 20,
   "id": "f19976e6",
   "metadata": {},
   "outputs": [
    {
     "data": {
      "image/png": "[encoded data removed]",
      "text/plain": [
       "<Figure size 432x288 with 1 Axes>"
      ]
     },
     "metadata": {
      "filenames": {
       "image/png": "/home/runner/work/quantecon-mini-example/quantecon-mini-example/mini_book/_build/jupyter_execute/docs/python_by_example_34_0.png"
      },
      "needs_background": "light"
     },
     "output_type": "display_data"
    }
   ],
   "source": [
    "ts_length = 100\n",
    "ϵ_values = []\n",
    "i = 0\n",
    "while i < ts_length:\n",
    "    e = np.random.randn()\n",
    "    ϵ_values.append(e)\n",
    "    i = i + 1\n",
    "plt.plot(ϵ_values)\n",
    "plt.show()"
   ]
  },
  {
   "cell_type": "markdown",
   "id": "6bfb468f",
   "metadata": {},
   "source": [
    "Note that\n",
    "\n",
    "-   the code block for the `while` loop is again delimited only by indentation\n",
    "-   the statement `i = i + 1` can be replaced by `i += 1`\n",
    "\n",
    "## Another Application\n",
    "\n",
    "Let\\'s do one more application before we turn to exercises.\n",
    "\n",
    "In this application, we plot the balance of a bank account over time.\n",
    "\n",
    "There are no withdraws over the time period, the last date of which is\n",
    "denoted by $T$.\n",
    "\n",
    "The initial balance is $b_0$ and the interest rate is $r$.\n",
    "\n",
    "The balance updates from period $t$ to $t+1$ according to\n",
    "\n",
    "```{math}\n",
    ":label: ilom\n",
    "    b_{t+1} = (1 + r) b_t\n",
    "```\n",
    "\n",
    "In the code below, we generate and plot the sequence $b_0, b_1, \\ldots, b_T$\n",
    "generated by {eq}`ilom`.\n",
    "\n",
    "Instead of using a Python list to store this sequence, we will use a\n",
    "NumPy array."
   ]
  },
  {
   "cell_type": "code",
   "execution_count": 21,
   "id": "a22ad37d",
   "metadata": {},
   "outputs": [
    {
     "data": {
      "image/png": "[encoded data removed]",
      "text/plain": [
       "<Figure size 432x288 with 1 Axes>"
      ]
     },
     "metadata": {
      "filenames": {
       "image/png": "/home/runner/work/quantecon-mini-example/quantecon-mini-example/mini_book/_build/jupyter_execute/docs/python_by_example_36_0.png"
      },
      "needs_background": "light"
     },
     "output_type": "display_data"
    }
   ],
   "source": [
    "r = 0.025         # interest rate\n",
    "T = 50            # end date\n",
    "b = np.empty(T+1) # an empty NumPy array, to store all b_t\n",
    "b[0] = 10         # initial balance\n",
    "\n",
    "for t in range(T):\n",
    "    b[t+1] = (1 + r) * b[t]\n",
    "\n",
    "plt.plot(b, label='bank balance')\n",
    "plt.legend()\n",
    "plt.show()"
   ]
  },
  {
   "cell_type": "markdown",
   "id": "f6c41b47",
   "metadata": {},
   "source": [
    "The statement `b = np.empty(T+1)` allocates storage in memory for `T+1`\n",
    "(floating point) numbers.\n",
    "\n",
    "These numbers are filled in by the `for` loop.\n",
    "\n",
    "Allocating memory at the start is more efficient than using a Python\n",
    "list and `append`, since the latter must repeatedly ask for storage\n",
    "space from the operating system.\n",
    "\n",
    "Notice that we added a legend to the plot --- a feature you will be\n",
    "asked to use in the exercises.\n"
   ]
  }
 ],
 "metadata": {
  "jupytext": {
   "text_representation": {
    "extension": ".md",
    "format_name": "myst"
   }
  },
  "kernelspec": {
   "display_name": "Python 3",
   "language": "python",
   "name": "python3"
  },
  "language_info": {
   "codemirror_mode": {
    "name": "ipython",
    "version": 3
   },
   "file_extension": ".py",
   "mimetype": "text/x-python",
   "name": "python",
   "nbconvert_exporter": "python",
   "pygments_lexer": "ipython3",
   "version": "3.8.12"
  },
  "source_map": [
   10,
   51,
   53,
   61,
   68,
   92,
   96,
   98,
   102,
   106,
   158,
   162,
   166,
   170,
   187,
   191,
   219,
   229,
   256,
   259,
   270,
   274,
   277,
   292,
   296,
   300,
   302,
   307,
   311,
   313,
   321,
   325,
   342,
   346,
   407,
   417,
   448,
   460,
   495,
   498,
   547,
   551,
   557,
   574,
   576,
   594,
   605,
   609,
   622,
   628,
   639,
   645,
   660,
   664,
   676,
   695
  ]
 },
 "nbformat": 4,
 "nbformat_minor": 5
}
