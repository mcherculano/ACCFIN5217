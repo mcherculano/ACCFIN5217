{
 "cells": [
  {
   "cell_type": "markdown",
   "metadata": {},
   "source": [
    "# Testing the CAPM\n",
    "### Objective\n",
    "To take the Capital Asset Pricing Model (CAPM) to data through a two-pass Fama-MacBeth protocol, by performing a time-series regression and a cross-sectional regression. The procedure should allow for the visualization of the relationship between systematic risk (beta) and average annualized monthly excess returns. This exercise will help you understand how to test the CAPM using empirical data. Work on this task using Python.\n",
    "\n",
    "### Instructions\n",
    "\n",
    "1. **Data Preparation:**\n",
    "   - Load the dataset containing monthly stock prices for 85 UK companies from January 1985 to December 2006. All the data you need is on Moodle named [`ukstock_returns.csv`](https://www.dropbox.com/t/7IIEgH3CtF3jR8eq).\n",
    "\n",
    "   - Filter the data for the years 1990 to 2006.\n",
    "   \n",
    "2. **Portfolio Construction:**\n",
    "   - For each year from 1990 to 2006, construct 10 portfolios by ranking stocks based on their beta values.\n",
    "   - Use a 5-year rolling window to estimate beta values for each company using the regression:\n",
    "   \n",
    "     $$\n",
    "     r_{it} = \\alpha_i + \\beta_i r_{mt} + \\epsilon_{it}\n",
    "     $$\n",
    "     \n",
    "     where $ r_{it} $ is the excess return of stock $ i $ and $ r_{mt} $ is the excess market return.\n",
    "   - Group stocks into portfolios based on their estimated beta values, with Portfolio 1 having the lowest betas and Portfolio 10 having the highest.\n",
    "\n",
    "3. **Time Series Regression:**\n",
    "   - For each of the 10 portfolios, run a time series regression using the following model:\n",
    "   \n",
    "     $\n",
    "     r_{pt} = \\alpha_p + \\beta_p r_{mt} + \\epsilon_{pt}, \\quad p = 1, \\dots, 10\n",
    "     $\n",
    "     \n",
    "   - Estimate the intercept $ \\alpha_p $ and the beta $ \\beta_p $ for each portfolio.\n",
    "\n",
    "4. **Cross-Sectional Regression:**\n",
    "   - Calculate the average excess return $ \\bar{r}_p $ for each portfolio over the entire period.\n",
    "   - Run a cross-sectional regression:\n",
    "   \n",
    "     $\n",
    "     \\bar{r}_p = \\lambda_0 + \\lambda_1 \\beta_p + \\eta_p, \\quad p = 1, \\dots, 10\n",
    "     $\n",
    "     \n",
    "   - Report the estimated coefficients $ \\lambda_0 $ and $ \\lambda_1 $, and interpret the results in the context of the CAPM.\n",
    "\n",
    "5. **Visualization:**\n",
    "   - Plot the relationship between systematic risk (beta) and average annualized monthly excess returns.\n",
    "   - Create a scatter plot of beta vs. annualized average returns, and overlay a linear regression line with error bands.\n",
    "   - Analyze the plot to determine whether the CAPM holds true for this dataset.\n",
    "\n",
    "### Deliverables\n",
    "- A Jupyter notebook with your code for each step.\n",
    "- A report summarizing your findings, including the regression results and the interpretation of your plots.\n",
    "- The final plot showing the relationship between systematic risk and returns, with the regression line and error bands.\n",
    "\n",
    "### Additional Notes\n",
    "- Make sure to clearly comment your code and include all necessary packages.\n",
    "- Include any additional analyses you perform, such as checking for outliers or testing the robustness of your results.\n"
   ]
  },
  {
   "cell_type": "code",
   "execution_count": null,
   "metadata": {},
   "outputs": [],
   "source": []
  }
 ],
 "metadata": {
  "language_info": {
   "name": "python"
  }
 },
 "nbformat": 4,
 "nbformat_minor": 2
}
