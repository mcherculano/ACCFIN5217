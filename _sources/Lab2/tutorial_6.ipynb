{
 "cells": [
  {
   "cell_type": "markdown",
   "metadata": {},
   "source": [
    "# Modelling Volatility and Tail Risk\n",
    "\n",
    "### Introduction\n",
    "In this lab, we will explore volatility modeling and forecasting, as well as tail risk analysis, using the S&P 500 time series data. You will work with various models such as ARCH, GARCH, and EWMA for volatility analysis, and employ historical and quantile regression approaches for Value at Risk (VaR) estimation.\n",
    "\n",
    "### Dataset\n",
    "The dataset used in this lab is the S&P 500 daily closing prices. You can download the dataset from the following source: [S&P 500 Dataset on Kaggle](https://www.kaggle.com/camnugent/sandp500).\n",
    "\n",
    "### Exercise 1: Volatility Modeling and Forecasting\n",
    "In this exercise, you will model the volatility of the Amazon (AMZN) using different methods and compare their forecasting performance.\n",
    "\n",
    "**Tasks:**\n",
    "\n",
    "1. Load the S&P 500 daily returns data and filter for the stock of interest (i.e. AMZN).\n",
    "2. Calculate log-returns for Amazon and plot them using `matplotlib`.\n",
    "   \n",
    "   $\n",
    "   r_t = \\ln\\left(\\frac{P_t}{P_{t-1}}\\right)\n",
    "   $\n",
    "   \n",
    "3. Model the volatility of returns using the following methods:\n",
    "   - ARCH\n",
    "   - GARCH\n",
    "   - Exponentially Weighted Moving Average (EWMA)\n",
    "   \n",
    "4. Plot the estimated volatilities from each model.\n",
    "\n",
    "### Exercise 2: Tail Risk Analysis\n",
    "In this exercise, you will estimate Value at Risk (VaR) using both historical simulation and quantile regression methods.\n",
    "\n",
    "**Tasks:**\n",
    "\n",
    "1. Load the S&P 500 daily returns data.\n",
    "2. Calculate the 95% VaR using the following methods:\n",
    "   - Historical Simulation\n",
    "   - Quantile Regression\n",
    "   \n",
    "3. Plot the VaR estimates along with the actual returns.\n",
    "4. Discuss the differences between the two methods and their effectiveness in capturing tail risk.\n"
   ]
  },
  {
   "cell_type": "code",
   "execution_count": null,
   "metadata": {},
   "outputs": [],
   "source": []
  }
 ],
 "metadata": {
  "language_info": {
   "name": "python"
  }
 },
 "nbformat": 4,
 "nbformat_minor": 2
}
