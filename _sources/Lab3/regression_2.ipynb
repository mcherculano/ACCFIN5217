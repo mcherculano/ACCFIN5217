{
 "cells": [
  {
   "cell_type": "markdown",
   "id": "f60ab0d9",
   "metadata": {},
   "source": [
    "# Penalized Regression\n",
    "\n",
    "When running a regression with many predictors the results have a tendency to overfit the data, reducing out-of-sample predictive properties. \n",
    "\n",
    "Penalized regression eases this problem by forcing the regression estimator to shrink the coefficients towards 0 in order to avoid the \"penalty\" term imposed on the coefficients. This process is closely related to the idea of Bayesian shrinkage, and indeed standard penalized regression results are equivalent to regression performed using [certain Bayesian priors](https://amstat.tandfonline.com/doi/abs/10.1198/016214508000000337?casa_token=DE6O93Bz7uUAAAAA:Ff_MiPXvPH32NA2hnGtZtqb8grXEiEqF0fdO3B0p_a6wOaqRciCZ4ASwxn69gdOb93Lbt-HSyK1o4As) (more about this in the next lab).\n",
    "\n",
    "Regular OLS selects coefficients $\\hat{\\beta}$ to minimize the sum of squared errors:\n",
    "\n",
    "$$\n",
    "\\min\\sum_i(y_i - X_i\\hat{\\beta})^2\n",
    "$$\n",
    "\n",
    "Penalized regressions similarly select coefficients to minimize a similar objective function by adding a penalty term $\\lambda\\lVert\\beta\\rVert_p$ to that objective function, where $\\lambda$ is a tuning parameter that determines how harshly to penalize coefficients, and $\\lVert\\beta\\rVert_p$ is the $p$-norm of the coefficients, or $\\sum_j\\lvert\\beta\\rvert^p$. Thus, the objective function becomes,\n",
    "\n",
    "$$\n",
    "\\min\\left(\\sum_i(y_i - X_i\\hat{\\beta})^2 + \\lambda\\left\\lVert\\beta\\right\\rVert_p \\right).\n",
    "$$\n",
    "\n",
    "Typically $p$ is set to 1 for LASSO regression (least absolute shrinkage and selection operator), which has the effect of tending to set coefficients to 0, i.e. model selection, or to 2 for Ridge Regression. Elastic net regression provides a weighted mix of LASSO and Ridge penalties, commonly referring to the weight as $\\alpha$. \n",
    "\n",
    "## Remarks\n",
    "\n",
    "- To avoid being penalized for a constant term, or by differences in scale between variables, it is a very good idea to standardize each variable (subtract the mean and divide by the standard deviation) before running a penalized regression.\n",
    "- Penalized regression can be run for logit and other kinds of regression, not just linear regression. Using penalties with general linear models like logit is common.\n",
    "- Penalized regression coefficients are designed to improve out-of-sample prediction, but they are biased. If the goal is estimation of a parameter, rather than prediction, this should be kept in mind. A common procedure is to use LASSO to select variables, and then run regular regression models with the variables that LASSO has selected.\n",
    "- The $\\lambda$ parameter is often chosen using cross-validation. Many penalized regression commands include an option to select $\\lambda$ by cross-validation automatically.\n",
    "- LASSO models commonly include variables along with polynomial transformation of those variables and interactions, allowing LASSO to determine which transformations are worth keeping.\n",
    "\n",
    "\n",
    "### Overfitting and Regularization \n",
    "\n",
    "You might be wondering, “Why would we ever want to throw variables out,\n",
    "can’t that only hurt our model?”\n",
    "\n",
    "The primary answer: it helps us avoid a common issue called **overfitting**.\n",
    "\n",
    "Overfitting occurs when a model that specializes its coefficients too much on the\n",
    "data it was trained on, and only to perform poorly when predicting on data\n",
    "outside the training set.\n",
    "\n",
    "The extreme example of overfitting is a model that can perfectly memorize the\n",
    "training data, but can do no better than just randomly guess when predicting\n",
    "on a new observation.\n",
    "\n",
    "The techniques applied to reduce overfitting are known as **regularization**.\n",
    "\n",
    "Regularization is an attempt to limit a model’s ability to specialize too narrowly\n",
    "on training data (e.g. limit overfitting) by penalizing extreme values of the\n",
    "model’s parameters.\n",
    "\n",
    "The additional term in the lasso regression loss function ($ \\alpha ||\\beta||_1 $)\n",
    "is a form of regularization.\n",
    "\n"
   ]
  },
  {
   "cell_type": "markdown",
   "id": "ed200c29",
   "metadata": {},
   "source": [
    "### Dataset\n",
    "\n",
    "Let’s load the dataset and take a quick look at our task."
   ]
  },
  {
   "cell_type": "code",
   "execution_count": 1,
   "id": "14e63a94",
   "metadata": {
    "hide-output": false
   },
   "outputs": [],
   "source": [
    "import pandas as pd\n",
    "import numpy as np\n",
    "from sklearn.preprocessing import StandardScaler\n",
    "import matplotlib.pyplot as plt\n",
    "import seaborn as sns\n",
    "\n",
    "colors = ['#165aa7', '#cb495c', '#fec630', '#bb60d5', '#f47915', '#06ab54', '#002070', '#b27d12', '#007030']\n",
    "\n",
    "# We will import all these here to ensure that they are loaded, but\n",
    "# will usually re-import close to where they are used to make clear\n",
    "# where the functions come from\n",
    "from sklearn import (\n",
    "    linear_model, metrics, neural_network, pipeline, model_selection\n",
    ")\n",
    "\n",
    "url = \"https://datascience.quantecon.org/assets/data/kc_house_data.csv\"\n",
    "df = pd.read_csv(url)\n",
    "#df.info()\n",
    "scaler = StandardScaler()\n",
    "\n",
    "\n",
    "X = df.drop([\"price\", \"date\", \"id\"], axis=1).copy()\n",
    "\n",
    "# convert everything to be a float for later on\n",
    "for col in list(X):\n",
    "    X[col] = X[col].astype(float)\n",
    "#X.head()\n",
    "y = np.log(df[\"price\"])\n",
    "df[\"log_price\"] = y\n",
    "# standardize data\n",
    "X = pd.DataFrame(scaler.fit_transform(X), columns=X.columns)\n",
    "\n",
    "#y.head()\n",
    "#Note: Uncomment the previous lines to inspect the data. We've done this in previous labs with this data so I'm going to skip this step here. \n"
   ]
  },
  {
   "cell_type": "code",
   "execution_count": 2,
   "id": "5e5657ce",
   "metadata": {},
   "outputs": [
    {
     "data": {
      "text/plain": [
       "array([[-0.39873715, -1.44746357, -0.97983502, ..., -0.30607896,\n",
       "        -0.9433552 , -0.26071541],\n",
       "       [-0.39873715,  0.1756067 ,  0.53363434, ..., -0.74634143,\n",
       "        -0.43268619, -0.18786773],\n",
       "       [-1.47395936, -1.44746357, -1.42625404, ..., -0.13565477,\n",
       "         1.07013975, -0.17237524],\n",
       "       ...,\n",
       "       [-1.47395936, -1.77207762, -1.15404732, ..., -0.60432128,\n",
       "        -1.41025258, -0.39414129],\n",
       "       [-0.39873715,  0.50022075, -0.52252773, ...,  1.02891048,\n",
       "        -0.8412214 , -0.42051149],\n",
       "       [-1.47395936, -1.77207762, -1.15404732, ..., -0.60432128,\n",
       "        -1.41025258, -0.41794772]])"
      ]
     },
     "execution_count": 2,
     "metadata": {},
     "output_type": "execute_result"
    }
   ],
   "source": [
    "scaler.fit_transform(X)"
   ]
  },
  {
   "cell_type": "markdown",
   "id": "f14f0768",
   "metadata": {},
   "source": [
    "## Lasso Regression\n",
    "\n",
    "Lasso regression is very closely related to linear regression.\n",
    "\n",
    "The lasso model also generates predictions using $ y = X \\beta $ but\n",
    "optimizes over a slightly different loss function.\n",
    "\n",
    "The optimization problem solved by lasso regression can be written as\n",
    "\n",
    "$$\n",
    "\\min_{\\beta} {|| X \\beta - y||_2}^2 + \\underbrace{\\alpha {|| \\beta ||_1}}_{\\text{penalty}}\n",
    "$$\n",
    "\n",
    "where $ || a ||_1 = \\sum_{i=1}^N | a_i| $ is the [l1-norm](http://mathworld.wolfram.com/L1-Norm.html) and $ \\alpha $ is called the regularization parameter.\n",
    "\n",
    "The additional term penalizes large coefficients and in practice, effectively sets coefficients to zero\n",
    "for features that are not informative about the\n",
    "target.\n",
    "\n",
    "Let’s see an example of what this looks like using the full feature set in\n",
    "`X`."
   ]
  },
  {
   "cell_type": "code",
   "execution_count": 3,
   "id": "4e7fb88b",
   "metadata": {
    "hide-output": false
   },
   "outputs": [
    {
     "data": {
      "text/html": [
       "<div>\n",
       "<style scoped>\n",
       "    .dataframe tbody tr th:only-of-type {\n",
       "        vertical-align: middle;\n",
       "    }\n",
       "\n",
       "    .dataframe tbody tr th {\n",
       "        vertical-align: top;\n",
       "    }\n",
       "\n",
       "    .dataframe thead th {\n",
       "        text-align: right;\n",
       "    }\n",
       "</style>\n",
       "<table border=\"1\" class=\"dataframe\">\n",
       "  <thead>\n",
       "    <tr style=\"text-align: right;\">\n",
       "      <th></th>\n",
       "      <th>lasso</th>\n",
       "      <th>linreg</th>\n",
       "    </tr>\n",
       "  </thead>\n",
       "  <tbody>\n",
       "    <tr>\n",
       "      <th>bedrooms</th>\n",
       "      <td>0.0</td>\n",
       "      <td>-0.0114</td>\n",
       "    </tr>\n",
       "    <tr>\n",
       "      <th>bathrooms</th>\n",
       "      <td>0.0</td>\n",
       "      <td>0.0532</td>\n",
       "    </tr>\n",
       "    <tr>\n",
       "      <th>sqft_living</th>\n",
       "      <td>0.0</td>\n",
       "      <td>0.0654</td>\n",
       "    </tr>\n",
       "    <tr>\n",
       "      <th>sqft_lot</th>\n",
       "      <td>0.0</td>\n",
       "      <td>0.0195</td>\n",
       "    </tr>\n",
       "    <tr>\n",
       "      <th>floors</th>\n",
       "      <td>0.0</td>\n",
       "      <td>0.0406</td>\n",
       "    </tr>\n",
       "    <tr>\n",
       "      <th>waterfront</th>\n",
       "      <td>0.0</td>\n",
       "      <td>0.0321</td>\n",
       "    </tr>\n",
       "    <tr>\n",
       "      <th>view</th>\n",
       "      <td>0.0</td>\n",
       "      <td>0.0463</td>\n",
       "    </tr>\n",
       "    <tr>\n",
       "      <th>condition</th>\n",
       "      <td>0.0</td>\n",
       "      <td>0.0408</td>\n",
       "    </tr>\n",
       "    <tr>\n",
       "      <th>grade</th>\n",
       "      <td>0.0</td>\n",
       "      <td>0.1868</td>\n",
       "    </tr>\n",
       "    <tr>\n",
       "      <th>sqft_above</th>\n",
       "      <td>0.0</td>\n",
       "      <td>0.0536</td>\n",
       "    </tr>\n",
       "    <tr>\n",
       "      <th>sqft_basement</th>\n",
       "      <td>0.0</td>\n",
       "      <td>0.0354</td>\n",
       "    </tr>\n",
       "    <tr>\n",
       "      <th>yr_built</th>\n",
       "      <td>0.0</td>\n",
       "      <td>-0.1002</td>\n",
       "    </tr>\n",
       "    <tr>\n",
       "      <th>yr_renovated</th>\n",
       "      <td>0.0</td>\n",
       "      <td>0.0147</td>\n",
       "    </tr>\n",
       "    <tr>\n",
       "      <th>zipcode</th>\n",
       "      <td>-0.0</td>\n",
       "      <td>-0.0346</td>\n",
       "    </tr>\n",
       "    <tr>\n",
       "      <th>lat</th>\n",
       "      <td>0.0</td>\n",
       "      <td>0.1940</td>\n",
       "    </tr>\n",
       "    <tr>\n",
       "      <th>long</th>\n",
       "      <td>0.0</td>\n",
       "      <td>-0.0224</td>\n",
       "    </tr>\n",
       "    <tr>\n",
       "      <th>sqft_living15</th>\n",
       "      <td>0.0</td>\n",
       "      <td>0.0676</td>\n",
       "    </tr>\n",
       "    <tr>\n",
       "      <th>sqft_lot15</th>\n",
       "      <td>0.0</td>\n",
       "      <td>-0.0071</td>\n",
       "    </tr>\n",
       "  </tbody>\n",
       "</table>\n",
       "</div>"
      ],
      "text/plain": [
       "               lasso  linreg\n",
       "bedrooms         0.0 -0.0114\n",
       "bathrooms        0.0  0.0532\n",
       "sqft_living      0.0  0.0654\n",
       "sqft_lot         0.0  0.0195\n",
       "floors           0.0  0.0406\n",
       "waterfront       0.0  0.0321\n",
       "view             0.0  0.0463\n",
       "condition        0.0  0.0408\n",
       "grade            0.0  0.1868\n",
       "sqft_above       0.0  0.0536\n",
       "sqft_basement    0.0  0.0354\n",
       "yr_built         0.0 -0.1002\n",
       "yr_renovated     0.0  0.0147\n",
       "zipcode         -0.0 -0.0346\n",
       "lat              0.0  0.1940\n",
       "long             0.0 -0.0224\n",
       "sqft_living15    0.0  0.0676\n",
       "sqft_lot15       0.0 -0.0071"
      ]
     },
     "execution_count": 3,
     "metadata": {},
     "output_type": "execute_result"
    }
   ],
   "source": [
    "lr_model = linear_model.LinearRegression()\n",
    "lr_model.fit(X, y)\n",
    "\n",
    "lasso_model = linear_model.Lasso()\n",
    "lasso_model.fit(X, y)\n",
    "\n",
    "lasso_coefs = pd.Series(dict(zip(list(X), lasso_model.coef_)))\n",
    "lr_coefs = pd.Series(dict(zip(list(X), lr_model.coef_)))\n",
    "coefs = pd.DataFrame(dict(lasso=lasso_coefs, linreg=lr_coefs))\n",
    "coefs.round(4)"
   ]
  },
  {
   "cell_type": "markdown",
   "id": "4df270ca",
   "metadata": {},
   "source": [
    "Notice that many coefficients from the lasso regression have been set to\n",
    "zero.\n",
    "\n",
    "The intuition here is that the corresponding features hadn’t provided\n",
    "enough predictive power to be worth considering alongside the other features.\n",
    "\n",
    "The default value for the $ \\alpha $ parameter is 1.0.\n",
    "\n",
    "Larger $ \\alpha $ values cause coefficients to shrink (and maybe\n",
    "additional ones to be thrown out)."
   ]
  },
  {
   "cell_type": "code",
   "execution_count": 4,
   "id": "e83b231c",
   "metadata": {
    "hide-output": false
   },
   "outputs": [
    {
     "data": {
      "image/png": "[encoded data removed]",
      "text/plain": [
       "<Figure size 1200x800 with 1 Axes>"
      ]
     },
     "metadata": {},
     "output_type": "display_data"
    }
   ],
   "source": [
    "# Compute lasso for many alphas (the lasso path)\n",
    "from itertools import cycle\n",
    "alphas = np.exp(np.linspace(10, -2, 50))\n",
    "alphas, coefs_lasso, _ = linear_model.lasso_path(X, y, alphas=alphas, max_iter=10000)\n",
    "\n",
    "# plotting\n",
    "fig, ax = plt.subplots(figsize=(12, 8))\n",
    "color_cycle = cycle(colors)\n",
    "log_alphas = -np.log10(alphas)\n",
    "for coef_l, c, name in zip(coefs_lasso, color_cycle, list(X)):\n",
    "   ax.plot(log_alphas, coef_l, c=c)\n",
    "   ax.set_xlabel('-Log(alpha)')\n",
    "   ax.set_ylabel('lasso coefficients')\n",
    "   ax.set_title('Lasso Path')\n",
    "   ax.axis('tight')\n",
    "   maxabs = np.max(np.abs(coef_l))\n",
    "   i = [idx for idx in range(len(coef_l)) if abs(coef_l[idx]) >= (0.9*maxabs)][0]\n",
    "   xnote = log_alphas[i]\n",
    "   ynote = coef_l[i]\n",
    "   ax.annotate(name, (xnote, ynote), color=c)"
   ]
  },
  {
   "cell_type": "markdown",
   "id": "80d98e1c",
   "metadata": {},
   "source": [
    "Let’s demonstrate the overfitting and regularization phenomenon on our housing\n",
    "price data as follows:\n",
    "\n",
    "1. Split the data set into training and testing subsets. We will use the first 50 observations for training and the rest for testing.  \n",
    "1. Fit the linear regression model and report MSE on training and testing datasets.  \n",
    "1. Fit the lasso model and report the same statistics.  \n"
   ]
  },
  {
   "cell_type": "code",
   "execution_count": 5,
   "id": "6d0f166d",
   "metadata": {
    "hide-output": false
   },
   "outputs": [
    {
     "data": {
      "text/plain": [
       "{'mse_train': 0.055456271715772824, 'mse_test': 0.6705205330638009}"
      ]
     },
     "execution_count": 5,
     "metadata": {},
     "output_type": "execute_result"
    }
   ],
   "source": [
    "def fit_and_report_mses(mod, X_train, X_test, y_train, y_test):\n",
    "    mod.fit(X_train, y_train)\n",
    "    return dict(\n",
    "        mse_train=metrics.mean_squared_error(y_train, mod.predict(X_train)),\n",
    "        mse_test=metrics.mean_squared_error(y_test, mod.predict(X_test))\n",
    "    )\n",
    "\n",
    "n_test = 50\n",
    "X_train = X.iloc[:n_test, :]\n",
    "X_test = X.iloc[n_test:, :]\n",
    "y_train = y.iloc[:n_test]\n",
    "y_test = y.iloc[n_test:]\n",
    "\n",
    "fit_and_report_mses(linear_model.LinearRegression(), X_train, X_test, y_train, y_test)"
   ]
  },
  {
   "cell_type": "code",
   "execution_count": 6,
   "id": "0472be92",
   "metadata": {
    "hide-output": false
   },
   "outputs": [
    {
     "data": {
      "text/plain": [
       "{'mse_train': 0.28276356426271987, 'mse_test': 0.2774907707201781}"
      ]
     },
     "execution_count": 6,
     "metadata": {},
     "output_type": "execute_result"
    }
   ],
   "source": [
    "fit_and_report_mses(linear_model.Lasso(), X_train, X_test, y_train, y_test)"
   ]
  },
  {
   "cell_type": "markdown",
   "id": "4f2b096b",
   "metadata": {},
   "source": [
    "Notice how the MSE on the training dataset was smaller for the linear model\n",
    "without the regularization, but the MSE on the test dataset was much\n",
    "higher.\n",
    "\n",
    "This strongly suggests that the linear regression model was\n",
    "overfitting."
   ]
  },
  {
   "cell_type": "markdown",
   "id": "0192b225",
   "metadata": {},
   "source": [
    "### Cross-validation of Regularization Parameter\n",
    "\n",
    "The regularization parameter has a large impact on overfitting. Moreover, the relationship between the test data MSE and $ \\alpha $ is\n",
    "complicated and non-monotonic.\n",
    "\n",
    "One popular method for choosing the regularization parameter is cross-validation.\n",
    "\n",
    "Roughly speaking, cross-validation splits the dataset into many training/testing\n",
    "subsets, then chooses the regularization parameter value that minimizes the\n",
    "average MSE.\n",
    "\n",
    "More precisely, k-fold cross-validation does the following:\n",
    "\n",
    "1. Partition the dataset randomly into k subsets/”folds”.  \n",
    "1. Compute $ MSE_j(\\alpha)= $ mean squared error in j-th subset\n",
    "  when using the j-th subset as test data, and other k-1 as training\n",
    "  data.  \n",
    "1. Minimize average (across folds) MSE $ \\min_\\alpha \\frac{1}{k}\n",
    "  \\sum_{j=1}^k MSE_j(\\alpha) $.  \n",
    "\n",
    "\n",
    "The following code plots 5-fold, cross-validated MSE as a function of\n",
    "$ \\alpha $, using the same training data as above."
   ]
  },
  {
   "cell_type": "code",
   "execution_count": 8,
   "id": "84825215",
   "metadata": {
    "hide-output": false
   },
   "outputs": [
    {
     "ename": "TypeError",
     "evalue": "list indices must be integers or slices, not str",
     "output_type": "error",
     "traceback": [
      "\u001b[1;31m---------------------------------------------------------------------------\u001b[0m",
      "\u001b[1;31mTypeError\u001b[0m                                 Traceback (most recent call last)",
      "\u001b[1;32mc:\\Users\\Miguel\\OneDrive - University of Glasgow\\teaching\\Glasgow\\current\\ECON5129\\Labs\\online\\ECON5129\\Lab3\\regression_2.ipynb Cell 14\u001b[0m line \u001b[0;36m3\n\u001b[0;32m      <a href='vscode-notebook-cell:/c%3A/Users/Miguel/OneDrive%20-%20University%20of%20Glasgow/teaching/Glasgow/current/ECON5129/Labs/online/ECON5129/Lab3/regression_2.ipynb#X16sZmlsZQ%3D%3D?line=0'>1</a>\u001b[0m \u001b[39mfrom\u001b[39;00m \u001b[39msklearn\u001b[39;00m\u001b[39m.\u001b[39;00m\u001b[39mmodel_selection\u001b[39;00m \u001b[39mimport\u001b[39;00m cross_val_score\n\u001b[0;32m      <a href='vscode-notebook-cell:/c%3A/Users/Miguel/OneDrive%20-%20University%20of%20Glasgow/teaching/Glasgow/current/ECON5129/Labs/online/ECON5129/Lab3/regression_2.ipynb#X16sZmlsZQ%3D%3D?line=1'>2</a>\u001b[0m mse \u001b[39m=\u001b[39m []\n\u001b[1;32m----> <a href='vscode-notebook-cell:/c%3A/Users/Miguel/OneDrive%20-%20University%20of%20Glasgow/teaching/Glasgow/current/ECON5129/Labs/online/ECON5129/Lab3/regression_2.ipynb#X16sZmlsZQ%3D%3D?line=2'>3</a>\u001b[0m mse[\u001b[39m\"\u001b[39m\u001b[39mcv\u001b[39m\u001b[39m\"\u001b[39m] \u001b[39m=\u001b[39m [\u001b[39m-\u001b[39mnp\u001b[39m.\u001b[39mmean(cross_val_score(linear_model\u001b[39m.\u001b[39mLasso(alpha\u001b[39m=\u001b[39malpha, max_iter\u001b[39m=\u001b[39m\u001b[39m50000\u001b[39m),\n\u001b[0;32m      <a href='vscode-notebook-cell:/c%3A/Users/Miguel/OneDrive%20-%20University%20of%20Glasgow/teaching/Glasgow/current/ECON5129/Labs/online/ECON5129/Lab3/regression_2.ipynb#X16sZmlsZQ%3D%3D?line=3'>4</a>\u001b[0m                                   X_train, y_train, cv\u001b[39m=\u001b[39m\u001b[39m5\u001b[39m, scoring\u001b[39m=\u001b[39m\u001b[39m'\u001b[39m\u001b[39mneg_mean_squared_error\u001b[39m\u001b[39m'\u001b[39m))\n\u001b[0;32m      <a href='vscode-notebook-cell:/c%3A/Users/Miguel/OneDrive%20-%20University%20of%20Glasgow/teaching/Glasgow/current/ECON5129/Labs/online/ECON5129/Lab3/regression_2.ipynb#X16sZmlsZQ%3D%3D?line=4'>5</a>\u001b[0m           \u001b[39mfor\u001b[39;00m alpha \u001b[39min\u001b[39;00m alphas]\n\u001b[0;32m      <a href='vscode-notebook-cell:/c%3A/Users/Miguel/OneDrive%20-%20University%20of%20Glasgow/teaching/Glasgow/current/ECON5129/Labs/online/ECON5129/Lab3/regression_2.ipynb#X16sZmlsZQ%3D%3D?line=5'>6</a>\u001b[0m mse\u001b[39m.\u001b[39mplot(x\u001b[39m=\u001b[39m\u001b[39m\"\u001b[39m\u001b[39mlog_alpha\u001b[39m\u001b[39m\"\u001b[39m, y\u001b[39m=\u001b[39m\u001b[39m\"\u001b[39m\u001b[39mcv\u001b[39m\u001b[39m\"\u001b[39m, c\u001b[39m=\u001b[39mcolors[\u001b[39m2\u001b[39m], ax\u001b[39m=\u001b[39max)\n\u001b[0;32m      <a href='vscode-notebook-cell:/c%3A/Users/Miguel/OneDrive%20-%20University%20of%20Glasgow/teaching/Glasgow/current/ECON5129/Labs/online/ECON5129/Lab3/regression_2.ipynb#X16sZmlsZQ%3D%3D?line=6'>7</a>\u001b[0m ax\u001b[39m.\u001b[39mannotate(\u001b[39m\"\u001b[39m\u001b[39m5 fold cross-validation\u001b[39m\u001b[39m\"\u001b[39m, (mse\u001b[39m.\u001b[39mlog_alpha[\u001b[39m40\u001b[39m], mse\u001b[39m.\u001b[39mcv[\u001b[39m40\u001b[39m]), color\u001b[39m=\u001b[39mcolors[\u001b[39m2\u001b[39m])\n",
      "\u001b[1;31mTypeError\u001b[0m: list indices must be integers or slices, not str"
     ]
    }
   ],
   "source": [
    "from sklearn.model_selection import cross_val_score\n",
    "\n",
    "mse[\"cv\"] = [-np.mean(cross_val_score(linear_model.Lasso(alpha=alpha, max_iter=50000),\n",
    "                                  X_train, y_train, cv=5, scoring='neg_mean_squared_error'))\n",
    "          for alpha in alphas]\n",
    "mse.plot(x=\"log_alpha\", y=\"cv\", c=colors[2], ax=ax)\n",
    "ax.annotate(\"5 fold cross-validation\", (mse.log_alpha[40], mse.cv[40]), color=colors[2])\n",
    "ax.get_legend().remove()\n",
    "ax.set_xlabel(r\"$-\\log(\\alpha)$\")\n",
    "ax.set_ylabel(\"MSE\")\n",
    "fig"
   ]
  },
  {
   "cell_type": "markdown",
   "id": "b22c23ec",
   "metadata": {},
   "source": [
    "scikit learn also includes methods to automate the above and select\n",
    "$ \\alpha $."
   ]
  },
  {
   "cell_type": "code",
   "execution_count": null,
   "id": "c34e533f",
   "metadata": {
    "hide-output": false
   },
   "outputs": [
    {
     "data": {
      "text/plain": [
       "-1.9732104006516822"
      ]
     },
     "execution_count": 20,
     "metadata": {},
     "output_type": "execute_result"
    }
   ],
   "source": [
    "# LassoCV exploits special structure of lasso problem to minimize CV more efficiently\n",
    "lasso = linear_model.LassoCV(cv=5).fit(X_train,y_train)\n",
    "-np.log10(lasso.alpha_) # should roughly = minimizer on graph, not exactly equal due to random splitting"
   ]
  },
  {
   "cell_type": "markdown",
   "id": "53d61d96",
   "metadata": {},
   "source": [
    "### Holdout\n",
    "\n",
    "Practitioners often use another technique to avoid overfitting, called\n",
    "*holdout*.\n",
    "\n",
    "We demonstrated an extreme example of applying holdout above when we used only\n",
    "the first 50 observations to train our models.\n",
    "\n",
    "In general, good practice is to split the entire dataset into a training subset\n",
    "and testing or validation subset.\n",
    "\n",
    "The splitting should be done randomly. It should leave enough data in the\n",
    "training dataset to produce a good model, but also enough in the validation\n",
    "subset to determine the degree of overfitting.\n",
    "\n",
    "There aren’t hard and fast rules for how much data to put in each subset, but a\n",
    "reasonable default uses 75% of the data for training and the\n",
    "rest for testing.\n",
    "\n",
    "As in the example above, the training data is often further split\n",
    "while selecting regularization parameters with cross-validation.\n",
    "\n",
    "The `sklearn` function `model_selection.train_test_split` will do this for you:"
   ]
  },
  {
   "cell_type": "code",
   "execution_count": null,
   "id": "661ee691",
   "metadata": {
    "hide-output": false
   },
   "outputs": [],
   "source": [
    "# note test_size=0.25 is the default value, but is shown here so you\n",
    "# can see how to change it\n",
    "X_train, X_test, y_train, y_test = model_selection.train_test_split(X, y, test_size=0.25)"
   ]
  },
  {
   "cell_type": "markdown",
   "id": "2c6dbe0c",
   "metadata": {},
   "source": [
    "### Exercise\n",
    "\n",
    "Run the same experiment using Ridge and Elastic Net Regression as your prefered regularization choice. How does it compare to LASSO and OLS ? "
   ]
  },
  {
   "cell_type": "markdown",
   "id": "6486648e",
   "metadata": {},
   "source": [
    "## References\n",
    "\n",
    "- Chapter 5 of Jerome Friedman, Trevor Hastie, and Robert Tibshirani. *The elements of statistical learning*. Springer series in statistics, 2009. URL: [https://web.stanford.edu/~hastie/ElemStatLearn/](https://web.stanford.edu/~hastie/ElemStatLearn/)\n",
    "\n",
    "- The Library of Statistical Techniques (LOST)! URL: [https://lost-stats.github.io/](https://lost-stats.github.io/)"
   ]
  }
 ],
 "metadata": {
  "date": 1689807042.4906044,
  "filename": "regression.md",
  "kernelspec": {
   "display_name": "Python",
   "language": "python3",
   "name": "python3"
  },
  "language_info": {
   "codemirror_mode": {
    "name": "ipython",
    "version": 3
   },
   "file_extension": ".py",
   "mimetype": "text/x-python",
   "name": "python",
   "nbconvert_exporter": "python",
   "pygments_lexer": "ipython3",
   "version": "3.11.4"
  },
  "title": "Regression"
 },
 "nbformat": 4,
 "nbformat_minor": 5
}
